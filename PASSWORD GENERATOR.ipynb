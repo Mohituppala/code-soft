{
 "cells": [
  {
   "cell_type": "code",
   "execution_count": 2,
   "id": "a4781887",
   "metadata": {},
   "outputs": [
    {
     "name": "stdout",
     "output_type": "stream",
     "text": [
      "How many characters do you want in your password? (minimum 4) 7\n",
      "Do you want to include capital letters? (y/n) y\n",
      "Do you want to include numbers? (y/n) n\n",
      "Do you want to include special characters? (y/n) n\n",
      "Generated Password: iidSERr\n"
     ]
    }
   ],
   "source": [
    "import random\n",
    "import string\n",
    "\n",
    "# Define lists of special characters\n",
    "special_chars = ['!', '@', '#', '$', '%', '^', '&', '*', '(', ')', '-', '_', '+', '=', '[', ']', '{', '}', '|', ';', ':', ',', '.', '<', '>', '/', '?']\n",
    "\n",
    "def generate_password(no_chars, include_caps=True, include_nums=True, include_special_chars=True):\n",
    "    # Define the pool of characters to choose from\n",
    "    chars_pool = string.ascii_lowercase\n",
    "    if include_caps:\n",
    "        chars_pool += string.ascii_uppercase\n",
    "    if include_nums:\n",
    "        chars_pool += string.digits\n",
    "    if include_special_chars:\n",
    "        chars_pool += ''.join(special_chars)\n",
    "\n",
    "    # Generate the password\n",
    "    password = ''.join(random.choice(chars_pool) for _ in range(no_chars))\n",
    "    return password\n",
    "\n",
    "def main():\n",
    "    try:\n",
    "        # Prompt the user to enter the desired password length\n",
    "        no_chars = int(input('How many characters do you want in your password? (minimum 4) '))\n",
    "\n",
    "        # Ask the user whether to include uppercase letters\n",
    "        include_caps = input('Do you want to include capital letters? (y/n) ').lower() == 'y'\n",
    "\n",
    "        # Ask the user whether to include numbers\n",
    "        include_nums = input('Do you want to include numbers? (y/n) ').lower() == 'y'\n",
    "\n",
    "        # Ask the user whether to include special characters\n",
    "        include_special_chars = input('Do you want to include special characters? (y/n) ').lower() == 'y'\n",
    "\n",
    "        # Validate the password length\n",
    "        if no_chars < 4:\n",
    "            raise ValueError(\"Password length must be at least 4 characters.\")\n",
    "\n",
    "        # Generate the password based on the specified criteria\n",
    "        password = generate_password(no_chars, include_caps, include_nums, include_special_chars)\n",
    "\n",
    "        # Print the generated password\n",
    "        print(f'Generated Password: {password}')\n",
    "\n",
    "    except ValueError as ve:\n",
    "        print(f\"Error: {ve}\")\n",
    "    except Exception as e:\n",
    "        print(f\"An unexpected error occurred: {e}\")\n",
    "\n",
    "if __name__ == \"__main__\":\n",
    "    main()\n"
   ]
  },
  {
   "cell_type": "code",
   "execution_count": null,
   "id": "3c5292b8",
   "metadata": {},
   "outputs": [],
   "source": []
  }
 ],
 "metadata": {
  "kernelspec": {
   "display_name": "Python 3 (ipykernel)",
   "language": "python",
   "name": "python3"
  },
  "language_info": {
   "codemirror_mode": {
    "name": "ipython",
    "version": 3
   },
   "file_extension": ".py",
   "mimetype": "text/x-python",
   "name": "python",
   "nbconvert_exporter": "python",
   "pygments_lexer": "ipython3",
   "version": "3.11.3"
  }
 },
 "nbformat": 4,
 "nbformat_minor": 5
}
